{
  "nbformat": 4,
  "nbformat_minor": 0,
  "metadata": {
    "colab": {
      "name": "sena proj.ipynb",
      "provenance": [],
      "collapsed_sections": [],
      "authorship_tag": "ABX9TyMpEAAvBjzrlDmnqq7qoPLw",
      "include_colab_link": true
    },
    "kernelspec": {
      "display_name": "Python 3",
      "name": "python3"
    },
    "language_info": {
      "name": "python"
    }
  },
  "cells": [
    {
      "cell_type": "markdown",
      "metadata": {
        "id": "view-in-github",
        "colab_type": "text"
      },
      "source": [
        "<a href=\"https://colab.research.google.com/github/suvalakshmi22/twitter-sentiment_analysis/blob/main/sena_proj.ipynb\" target=\"_parent\"><img src=\"https://colab.research.google.com/assets/colab-badge.svg\" alt=\"Open In Colab\"/></a>"
      ]
    },
    {
      "cell_type": "code",
      "metadata": {
        "colab": {
          "base_uri": "https://localhost:8080/"
        },
        "id": "xigM1RWYW2yd",
        "outputId": "64b4b1aa-ca56-4a29-b21d-d387e0d8f380"
      },
      "source": [
        "pip install tweepy"
      ],
      "execution_count": null,
      "outputs": [
        {
          "output_type": "stream",
          "text": [
            "Requirement already satisfied: tweepy in /usr/local/lib/python3.7/dist-packages (3.10.0)\n",
            "Requirement already satisfied: six>=1.10.0 in /usr/local/lib/python3.7/dist-packages (from tweepy) (1.15.0)\n",
            "Requirement already satisfied: requests[socks]>=2.11.1 in /usr/local/lib/python3.7/dist-packages (from tweepy) (2.23.0)\n",
            "Requirement already satisfied: requests-oauthlib>=0.7.0 in /usr/local/lib/python3.7/dist-packages (from tweepy) (1.3.0)\n",
            "Requirement already satisfied: urllib3!=1.25.0,!=1.25.1,<1.26,>=1.21.1 in /usr/local/lib/python3.7/dist-packages (from requests[socks]>=2.11.1->tweepy) (1.24.3)\n",
            "Requirement already satisfied: idna<3,>=2.5 in /usr/local/lib/python3.7/dist-packages (from requests[socks]>=2.11.1->tweepy) (2.10)\n",
            "Requirement already satisfied: certifi>=2017.4.17 in /usr/local/lib/python3.7/dist-packages (from requests[socks]>=2.11.1->tweepy) (2020.12.5)\n",
            "Requirement already satisfied: chardet<4,>=3.0.2 in /usr/local/lib/python3.7/dist-packages (from requests[socks]>=2.11.1->tweepy) (3.0.4)\n",
            "Requirement already satisfied: PySocks!=1.5.7,>=1.5.6; extra == \"socks\" in /usr/local/lib/python3.7/dist-packages (from requests[socks]>=2.11.1->tweepy) (1.7.1)\n",
            "Requirement already satisfied: oauthlib>=3.0.0 in /usr/local/lib/python3.7/dist-packages (from requests-oauthlib>=0.7.0->tweepy) (3.1.0)\n"
          ],
          "name": "stdout"
        }
      ]
    },
    {
      "cell_type": "code",
      "metadata": {
        "colab": {
          "base_uri": "https://localhost:8080/"
        },
        "id": "SkA1J5VSXEiG",
        "outputId": "5fe5e14a-c7c9-489d-c9b8-eabce4dc45a6"
      },
      "source": [
        "pip install textblob"
      ],
      "execution_count": null,
      "outputs": [
        {
          "output_type": "stream",
          "text": [
            "Requirement already satisfied: textblob in /usr/local/lib/python3.7/dist-packages (0.15.3)\n",
            "Requirement already satisfied: nltk>=3.1 in /usr/local/lib/python3.7/dist-packages (from textblob) (3.2.5)\n",
            "Requirement already satisfied: six in /usr/local/lib/python3.7/dist-packages (from nltk>=3.1->textblob) (1.15.0)\n"
          ],
          "name": "stdout"
        }
      ]
    },
    {
      "cell_type": "code",
      "metadata": {
        "colab": {
          "base_uri": "https://localhost:8080/"
        },
        "id": "EutWShn8XMmA",
        "outputId": "0990a6dc-6184-4342-d23e-67e617f47206"
      },
      "source": [
        "!pip install -m textblob.download_corpora"
      ],
      "execution_count": null,
      "outputs": [
        {
          "output_type": "stream",
          "text": [
            "\n",
            "Usage:   \n",
            "  pip3 install [options] <requirement specifier> [package-index-options] ...\n",
            "  pip3 install [options] -r <requirements file> [package-index-options] ...\n",
            "  pip3 install [options] [-e] <vcs project url> ...\n",
            "  pip3 install [options] [-e] <local project path> ...\n",
            "  pip3 install [options] <archive url/path> ...\n",
            "\n",
            "no such option: -m\n"
          ],
          "name": "stdout"
        }
      ]
    },
    {
      "cell_type": "code",
      "metadata": {
        "colab": {
          "base_uri": "https://localhost:8080/",
          "height": 549
        },
        "id": "c38RjagtXg3r",
        "outputId": "f5ee918e-b7d6-480f-d692-e75e394351c7"
      },
      "source": [
        "import sys,tweepy,csv,re\n",
        "from textblob import TextBlob\n",
        "import matplotlib.pyplot as plt\n",
        "\n",
        "\n",
        "class SentimentAnalysis:\n",
        "\n",
        "    def __init__(self):\n",
        "        self.tweets = []\n",
        "        self.tweetText = []\n",
        "\n",
        "    def DownloadData(self):\n",
        "        # authenticating\n",
        "        consumerKey = 'MEld2usuoz7IWqifHmwE0WlSA'\n",
        "        consumerSecret = 'fhlQWwHXfcLrNRxfZCt2A3eiJm1tg1sYWBYkgo2wjArBQ80isJ'\n",
        "        accessToken = '1278726528746942471-14o8QQ0tqr3oIvZjIMcEYaQusRN5R8'\n",
        "        accessTokenSecret = 'jrjBJRkqIH7gTnJteWjx5fJneVBayt2PL1Bzm5c0IoiGR'\n",
        "        auth = tweepy.OAuthHandler(consumerKey, consumerSecret)\n",
        "        auth.set_access_token(accessToken, accessTokenSecret)\n",
        "        api = tweepy.API(auth)\n",
        "\n",
        "        # input for term to be searched and how many tweets to search\n",
        "        searchTerm = input(\"Enter Keyword/Tag to search about: \")\n",
        "        NoOfTerms = int(input(\"Enter how many tweets to search: \"))\n",
        "\n",
        "        # searching for tweets\n",
        "        self.tweets = tweepy.Cursor(api.search, q=searchTerm, lang = \"en\").items(NoOfTerms)\n",
        "\n",
        "        # Open/create a file to append data to\n",
        "        csvFile = open('result.csv', 'a')\n",
        "\n",
        "        # Use csv writer\n",
        "        csvWriter = csv.writer(csvFile)\n",
        "\n",
        "\n",
        "        # creating some variables to store info\n",
        "        polarity = 0\n",
        "        positive = 0\n",
        "        wpositive = 0\n",
        "        spositive = 0\n",
        "        negative = 0\n",
        "        wnegative = 0\n",
        "        snegative = 0\n",
        "        neutral = 0\n",
        "\n",
        "\n",
        "        # iterating through tweets fetched\n",
        "        for tweet in self.tweets:\n",
        "            self.tweetText.append(self.cleanTweet(tweet.text).encode('utf-8'))\n",
        "      \n",
        "            analysis = TextBlob(tweet.text)\n",
        "            polarity += analysis.sentiment.polarity  # adding up polarities to find the average later\n",
        "\n",
        "            if (analysis.sentiment.polarity == 0):  # adding reaction of how people are reacting to find average later\n",
        "                neutral += 1\n",
        "            elif (analysis.sentiment.polarity > 0 and analysis.sentiment.polarity <= 0.3):\n",
        "                wpositive += 1\n",
        "            elif (analysis.sentiment.polarity > 0.3 and analysis.sentiment.polarity <= 0.6):\n",
        "                positive += 1\n",
        "            elif (analysis.sentiment.polarity > 0.6 and analysis.sentiment.polarity <= 1):\n",
        "                spositive += 1\n",
        "            elif (analysis.sentiment.polarity > -0.3 and analysis.sentiment.polarity <= 0):\n",
        "                wnegative += 1\n",
        "            elif (analysis.sentiment.polarity > -0.6 and analysis.sentiment.polarity <= -0.3):\n",
        "                negative += 1\n",
        "            elif (analysis.sentiment.polarity > -1 and analysis.sentiment.polarity <= -0.6):\n",
        "                snegative += 1\n",
        "\n",
        "\n",
        "        # Write to csv and close csv file\n",
        "        csvWriter.writerow(self.tweetText)\n",
        "        csvFile.close()\n",
        "\n",
        "        # finding average of how people are reacting\n",
        "        positive = self.percentage(positive, NoOfTerms)\n",
        "        wpositive = self.percentage(wpositive, NoOfTerms)\n",
        "        spositive = self.percentage(spositive, NoOfTerms)\n",
        "        negative = self.percentage(negative, NoOfTerms)\n",
        "        wnegative = self.percentage(wnegative, NoOfTerms)\n",
        "        snegative = self.percentage(snegative, NoOfTerms)\n",
        "        neutral = self.percentage(neutral, NoOfTerms)\n",
        "\n",
        "        # finding average reaction\n",
        "        polarity = polarity / NoOfTerms\n",
        "\n",
        "        # printing out data\n",
        "        print(\"How people are reacting on \" + searchTerm + \" by analyzing \" + str(NoOfTerms) + \" tweets.\")\n",
        "        print()\n",
        "        print(\"General Report: \")\n",
        "\n",
        "        if (polarity == 0):\n",
        "            print(\"Neutral\")\n",
        "        elif (polarity > 0 and polarity <= 0.3):\n",
        "            print(\"Weakly Positive\")\n",
        "        elif (polarity > 0.3 and polarity <= 0.6):\n",
        "            print(\"Positive\")\n",
        "        elif (polarity > 0.6 and polarity <= 1):\n",
        "            print(\"Strongly Positive\")\n",
        "        elif (polarity > -0.3 and polarity <= 0):\n",
        "            print(\"Weakly Negative\")\n",
        "        elif (polarity > -0.6 and polarity <= -0.3):\n",
        "            print(\"Negative\")\n",
        "        elif (polarity > -1 and polarity <= -0.6):\n",
        "            print(\"Strongly Negative\")\n",
        "\n",
        "        print()\n",
        "        print(\"Detailed Report: \")\n",
        "        print(str(positive) + \"% people thought it was positive\")\n",
        "        print(str(wpositive) + \"% people thought it was weakly positive\")\n",
        "        print(str(spositive) + \"% people thought it was strongly positive\")\n",
        "        print(str(negative) + \"% people thought it was negative\")\n",
        "        print(str(wnegative) + \"% people thought it was weakly negative\")\n",
        "        print(str(snegative) + \"% people thought it was strongly negative\")\n",
        "        print(str(neutral) + \"% people thought it was neutral\")\n",
        "\n",
        "        self.plotPieChart(positive, wpositive, spositive, negative, wnegative, snegative, neutral, searchTerm, NoOfTerms)\n",
        "\n",
        "\n",
        "    def cleanTweet(self, tweet):\n",
        "        # Remove Links, Special Characters etc from tweet\n",
        "        return ' '.join(re.sub(\"(@[A-Za-z0-9]+)|([^0-9A-Za-z \\t]) | (\\w +:\\ / \\ / \\S +)\", \" \", tweet).split())\n",
        "\n",
        "    # function to calculate percentage\n",
        "    def percentage(self, part, whole):\n",
        "        temp = 100 * float(part) / float(whole)\n",
        "        return format(temp, '.2f')\n",
        "\n",
        "    def plotPieChart(self, positive, wpositive, spositive, negative, wnegative, snegative, neutral, searchTerm, noOfSearchTerms):\n",
        "        labels = ['Positive [' + str(positive) + '%]', 'Weakly Positive [' + str(wpositive) + '%]','Strongly Positive [' + str(spositive) + '%]', 'Neutral [' + str(neutral) + '%]',\n",
        "                  'Negative [' + str(negative) + '%]', 'Weakly Negative [' + str(wnegative) + '%]', 'Strongly Negative [' + str(snegative) + '%]']\n",
        "        sizes = [positive, wpositive, spositive, neutral, negative, wnegative, snegative]\n",
        "        colors = ['yellowgreen','lightgreen','darkgreen', 'gold', 'red','lightsalmon','darkred']\n",
        "        patches, texts = plt.pie(sizes, colors=colors, startangle=90)\n",
        "        plt.legend(patches, labels, loc=\"best\")\n",
        "        plt.title('reaction of the people on  ' + searchTerm + ' by analyzing ' + str(noOfSearchTerms) + ' Tweets.')\n",
        "        plt.axis('equal')\n",
        "        plt.tight_layout()\n",
        "        plt.show()\n",
        "\n",
        "\n",
        "\n",
        "if __name__== \"__main__\":\n",
        "    sa = SentimentAnalysis()\n",
        "    sa.DownloadData()"
      ],
      "execution_count": 1,
      "outputs": [
        {
          "output_type": "stream",
          "text": [
            "Enter Keyword/Tag to search about: tamilnadu election\n",
            "Enter how many tweets to search: 200\n",
            "How people are reacting on tamilnadu election by analyzing 200 tweets.\n",
            "\n",
            "General Report: \n",
            "Weakly Positive\n",
            "\n",
            "Detailed Report: \n",
            "12.00% people thought it was positive\n",
            "6.00% people thought it was weakly positive\n",
            "3.00% people thought it was strongly positive\n",
            "3.50% people thought it was negative\n",
            "11.00% people thought it was weakly negative\n",
            "0.00% people thought it was strongly negative\n",
            "64.50% people thought it was neutral\n"
          ],
          "name": "stdout"
        },
        {
          "output_type": "display_data",
          "data": {
            "image/png": "[encoded data removed]",
            "text/plain": [
              "<Figure size 432x288 with 1 Axes>"
            ]
          },
          "metadata": {
            "tags": []
          }
        }
      ]
    }
  ]
}